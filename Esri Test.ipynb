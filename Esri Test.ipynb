{
 "cells": [
  {
   "cell_type": "code",
   "execution_count": 29,
   "metadata": {},
   "outputs": [],
   "source": [
    "from arcgis.gis import GIS\n",
    "from arcgis import geometry #import Geometry, Point\n",
    "from arcgis import features #import FeatureLayer, filters.intersects"
   ]
  },
  {
   "cell_type": "code",
   "execution_count": 44,
   "metadata": {},
   "outputs": [
    {
     "data": {
      "text/html": [
       "<div class=\"item_container\" style=\"height: auto; overflow: hidden; border: 1px solid #cfcfcf; border-radius: 2px; background: #f6fafa; line-height: 1.21429em; padding: 10px;\">\n",
       "                    <div class=\"item_left\" style=\"width: 210px; float: left;\">\n",
       "                       <a href='https://www.arcgis.com/home/item.html?id=952b820452f545adb76ecd679981d3ae' target='_blank'>\n",
       "                        <img src='https://www.arcgis.com/sharing/rest//content/items/952b820452f545adb76ecd679981d3ae/info/thumbnail/GA_House_2012.png' class=\"itemThumbnail\">\n",
       "                       </a>\n",
       "                    </div>\n",
       "\n",
       "                    <div class=\"item_right\"     style=\"float: none; width: auto; overflow: hidden;\">\n",
       "                        <a href='https://www.arcgis.com/home/item.html?id=952b820452f545adb76ecd679981d3ae' target='_blank'><b>Georgia House of Representatives Districts</b>\n",
       "                        </a>\n",
       "                        <br/>Shows the voting demographics for Georgia House of Representatives districts<img src='https://www.arcgis.com/home/js/jsapi/esri/css/images/item_type_icons/featureshosted16.png' style=\"vertical-align:middle;\">Feature Layer Collection by opendata@arc\n",
       "                        <br/>Last Modified: November 01, 2018\n",
       "                        <br/>0 comments, 6,796 views\n",
       "                    </div>\n",
       "                </div>\n",
       "                "
      ],
      "text/plain": [
       "<Item title:\"Georgia House of Representatives Districts\" type:Feature Layer Collection owner:opendata@arc>"
      ]
     },
     "execution_count": 44,
     "metadata": {},
     "output_type": "execute_result"
    }
   ],
   "source": [
    "#dist_id = '028f84422f564b2c841957c5a2e7fcd1'\n",
    "#cc6a869374434bee9fefad45e291b779\n",
    "#952b820452f545adb76ecd679981d3ae\n",
    "dist_id = '952b820452f545adb76ecd679981d3ae'\n",
    "gis = GIS()\n",
    "item = gis.content.get(dist_id)\n",
    "item\n"
   ]
  },
  {
   "cell_type": "code",
   "execution_count": 46,
   "metadata": {},
   "outputs": [
    {
     "data": {
      "text/plain": [
       "56"
      ]
     },
     "execution_count": 46,
     "metadata": {},
     "output_type": "execute_result"
    }
   ],
   "source": [
    "feature_layer = item.layers[0]\n",
    "pt = geometry.Point({\"x\": -84.396127, \"y\": 33.777047, \"spatialReference\" :{\"wkid\":4326}})\n",
    "dist_filter = geometry.filters.intersects(pt)\n",
    "q = feature_layer.query(where='1=1', geometry_filter=dist_filter)\n",
    "int(q.features[0].attributes['DISTRICT'])"
   ]
  },
  {
   "cell_type": "code",
   "execution_count": 32,
   "metadata": {},
   "outputs": [],
   "source": [
    "#33.7708534,-84.4200739 this is lat-long form\n",
    "pt = geometry.Point({\"x\": -84.4200739, \"y\":33.7708969, \"spatialReference\" :{\"wkid\":4326}})"
   ]
  },
  {
   "cell_type": "code",
   "execution_count": 33,
   "metadata": {},
   "outputs": [
    {
     "data": {
      "text/plain": [
       "1"
      ]
     },
     "execution_count": 33,
     "metadata": {},
     "output_type": "execute_result"
    }
   ],
   "source": [
    "dist_filter = geometry.filters.intersects(pt)\n",
    "q = feature_layer.query(where='1=1', geometry_filter=dist_filter)\n",
    "len(q.features)"
   ]
  },
  {
   "cell_type": "code",
   "execution_count": 34,
   "metadata": {},
   "outputs": [
    {
     "data": {
      "text/plain": [
       "{'OBJECTID_1': 236,\n",
       " 'DISTRICT': '056',\n",
       " 'POPULATION': 53564,\n",
       " 'GlobalID': '{EB593ECB-B808-40E0-9401-C34B11E2A3BA}',\n",
       " 'last_edited_date': 1482355689000,\n",
       " 'profile_url': 'http://documents.atlantaregional.com/profiles/house/house_district_56.pdf'}"
      ]
     },
     "execution_count": 34,
     "metadata": {},
     "output_type": "execute_result"
    }
   ],
   "source": [
    "attributes = q.features[0].attributes\n",
    "attributes"
   ]
  },
  {
   "cell_type": "code",
   "execution_count": 35,
   "metadata": {},
   "outputs": [
    {
     "data": {
      "text/plain": [
       "'056'"
      ]
     },
     "execution_count": 35,
     "metadata": {},
     "output_type": "execute_result"
    }
   ],
   "source": []
  },
  {
   "cell_type": "code",
   "execution_count": null,
   "metadata": {},
   "outputs": [],
   "source": []
  }
 ],
 "metadata": {
  "kernelspec": {
   "display_name": "Python 3",
   "language": "python",
   "name": "python3"
  },
  "language_info": {
   "codemirror_mode": {
    "name": "ipython",
    "version": 3
   },
   "file_extension": ".py",
   "mimetype": "text/x-python",
   "name": "python",
   "nbconvert_exporter": "python",
   "pygments_lexer": "ipython3",
   "version": "3.7.1"
  }
 },
 "nbformat": 4,
 "nbformat_minor": 2
}
