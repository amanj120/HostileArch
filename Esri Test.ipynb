{
 "cells": [
  {
   "cell_type": "code",
   "execution_count": 12,
   "metadata": {},
   "outputs": [],
   "source": [
    "from arcgis.gis import GIS\n",
    "from arcgis import geometry #import Geometry, Point\n",
    "from arcgis import features #import FeatureLayer, filters.intersects"
   ]
  },
  {
   "cell_type": "code",
   "execution_count": 23,
   "metadata": {},
   "outputs": [
    {
     "data": {
      "text/plain": [
       "'Feature Service'"
      ]
     },
     "execution_count": 23,
     "metadata": {},
     "output_type": "execute_result"
    }
   ],
   "source": [
    "#dist_id = '028f84422f564b2c841957c5a2e7fcd1'\n",
    "dist_id = '952b820452f545adb76ecd679981d3ae'\n",
    "gis = GIS()\n",
    "item = gis.content.get(dist_id)\n",
    "item.type"
   ]
  },
  {
   "cell_type": "code",
   "execution_count": 24,
   "metadata": {},
   "outputs": [
    {
     "data": {
      "text/plain": [
       "<FeatureLayer url:\"https://arcgis.atlantaregional.com/arcgis/rest/services/OpenData/FeatureServer/74\">"
      ]
     },
     "execution_count": 24,
     "metadata": {},
     "output_type": "execute_result"
    }
   ],
   "source": [
    "feature_layer = item.layers[0]\n",
    "feature_layer"
   ]
  },
  {
   "cell_type": "code",
   "execution_count": 25,
   "metadata": {},
   "outputs": [],
   "source": [
    "#33.7708534,-84.4200739 this is lat-long form\n",
    "pt = geometry.Point({\"x\": -84.4200739, \"y\":33.7708969, \"spatialReference\" :{\"wkid\":4326}})"
   ]
  },
  {
   "cell_type": "code",
   "execution_count": 26,
   "metadata": {},
   "outputs": [
    {
     "data": {
      "text/plain": [
       "1"
      ]
     },
     "execution_count": 26,
     "metadata": {},
     "output_type": "execute_result"
    }
   ],
   "source": [
    "dist_filter = geometry.filters.intersects(pt)\n",
    "q = feature_layer.query(where='1=1', geometry_filter=dist_filter)\n",
    "len(q.features)"
   ]
  },
  {
   "cell_type": "code",
   "execution_count": 28,
   "metadata": {},
   "outputs": [
    {
     "data": {
      "text/plain": [
       "{'OBJECTID_1': 236,\n",
       " 'DISTRICT': '056',\n",
       " 'POPULATION': 53564,\n",
       " 'GlobalID': '{EB593ECB-B808-40E0-9401-C34B11E2A3BA}',\n",
       " 'last_edited_date': 1482355689000,\n",
       " 'profile_url': 'http://documents.atlantaregional.com/profiles/house/house_district_56.pdf'}"
      ]
     },
     "execution_count": 28,
     "metadata": {},
     "output_type": "execute_result"
    }
   ],
   "source": [
    "attributes = q.features[0].attributes\n",
    "attributes"
   ]
  },
  {
   "cell_type": "code",
   "execution_count": null,
   "metadata": {},
   "outputs": [],
   "source": []
  }
 ],
 "metadata": {
  "kernelspec": {
   "display_name": "Python 3",
   "language": "python",
   "name": "python3"
  },
  "language_info": {
   "codemirror_mode": {
    "name": "ipython",
    "version": 3
   },
   "file_extension": ".py",
   "mimetype": "text/x-python",
   "name": "python",
   "nbconvert_exporter": "python",
   "pygments_lexer": "ipython3",
   "version": "3.7.1"
  }
 },
 "nbformat": 4,
 "nbformat_minor": 2
}
