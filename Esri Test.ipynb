{
 "cells": [
  {
   "cell_type": "code",
   "execution_count": 85,
   "metadata": {},
   "outputs": [],
   "source": [
    "from arcgis.gis import GIS\n",
    "from arcgis import geometry #import Geometry, Point\n",
    "from arcgis import features #import FeatureLayer, filters.intersects"
   ]
  },
  {
   "cell_type": "code",
   "execution_count": 86,
   "metadata": {},
   "outputs": [],
   "source": [
    "dist_id = 'cc6a869374434bee9fefad45e291b779'\n",
    "gis = GIS()\n",
    "item = gis.content.get(dist_id)"
   ]
  },
  {
   "cell_type": "code",
   "execution_count": 87,
   "metadata": {},
   "outputs": [],
   "source": [
    "feature_layer = item.layers[0]"
   ]
  },
  {
   "cell_type": "code",
   "execution_count": 89,
   "metadata": {},
   "outputs": [],
   "source": [
    "#33.7708534,-84.4200739 this is lat-long form\n",
    "pt = Point({\"x\": -70.4200739, \"y\":34.9008534, \"spatialReference\" :{\"wkid\":4326}})"
   ]
  },
  {
   "cell_type": "code",
   "execution_count": 93,
   "metadata": {},
   "outputs": [
    {
     "data": {
      "text/plain": [
       "0"
      ]
     },
     "execution_count": 93,
     "metadata": {},
     "output_type": "execute_result"
    }
   ],
   "source": [
    "dist_filter = geometry.filters.intersects(pt)\n",
    "q = feature_layer.query(where='1=1', geometry_filter=dist_filter)\n",
    "len(q.features)"
   ]
  },
  {
   "cell_type": "code",
   "execution_count": null,
   "metadata": {},
   "outputs": [],
   "source": [
    "attributes = q.features[0].attributes\n",
    "name = attributes['LAST_NAME']\n",
    "state = attributes['STATE_ABBR']\n",
    "district = attributes['CDFIPS']\n",
    "ret_tup = (state, district, name)\n",
    "ret_tup"
   ]
  }
 ],
 "metadata": {
  "kernelspec": {
   "display_name": "Python 3",
   "language": "python",
   "name": "python3"
  },
  "language_info": {
   "codemirror_mode": {
    "name": "ipython",
    "version": 3
   },
   "file_extension": ".py",
   "mimetype": "text/x-python",
   "name": "python",
   "nbconvert_exporter": "python",
   "pygments_lexer": "ipython3",
   "version": "3.7.1"
  }
 },
 "nbformat": 4,
 "nbformat_minor": 2
}
