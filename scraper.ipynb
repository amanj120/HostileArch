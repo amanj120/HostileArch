{
 "cells": [
  {
   "cell_type": "code",
   "execution_count": 86,
   "metadata": {},
   "outputs": [],
   "source": [
    "import requests\n",
    "from bs4 import BeautifulSoup\n",
    "import csv"
   ]
  },
  {
   "cell_type": "code",
   "execution_count": 87,
   "metadata": {},
   "outputs": [],
   "source": [
    "f = open('House Members List.html', 'r')\n",
    "l = f.read()"
   ]
  },
  {
   "cell_type": "code",
   "execution_count": 95,
   "metadata": {},
   "outputs": [
    {
     "name": "stdout",
     "output_type": "stream",
     "text": [
      "Kimberly Alexander\n",
      "Erick E. Allen\n",
      "Teri Anulewicz\n",
      "Mandi L.  Ballinger\n",
      "Timothy Barr\n",
      "Matt Barton\n",
      "Debra Bazemore\n",
      "Sharon Beasley-Teague\n",
      "Dave Belton\n",
      "Karen Bennett\n",
      "Patty Bentley\n",
      "Tommy Benton\n",
      "James Beverly\n",
      "Shaw Blackmon\n",
      "William Boddie\n",
      "Josh Bonner\n",
      "Roger Bruce\n",
      "Debbie Buckner\n",
      "James Burchett\n",
      "Rhonda Burnough\n",
      "Jon G. Burns\n",
      "Michael Caldwell\n",
      "Park Cannon\n",
      "Wes Cantrell\n",
      "Kasey Carpenter\n",
      "John Carson\n",
      "Doreen Carter\n",
      "Mike Cheokas\n",
      "David Clark\n",
      "Heath Clark\n",
      "Jasmine Clark\n",
      "J Collins\n",
      "Kevin Cooke\n",
      "Sharon Cooper\n",
      "John Corbett\n",
      "Viola Davis\n",
      "Katie M. Dempsey\n",
      "Pam Dickerson\n",
      "Robert Dickey\n",
      "Matt Dollar\n",
      "Demetrius Douglas\n",
      "Karla Drenner\n",
      "David Dreyer\n",
      "Matt Dubnik\n",
      "Winfred J Dukes\n",
      "Emory Dunahoo\n",
      "Chuck Efstration\n",
      "Ginny Ehrhart\n",
      "Terry England\n",
      "Chris Erwin\n",
      "Becky Evans\n",
      "Barry Fleming\n",
      "Gloria Frazier\n",
      "Spencer Frye\n",
      "Houston Gaines\n",
      "Matthew Gambill\n",
      "Pat Gardner\n",
      "Carl Wayne Gilliard\n",
      "Sheri Gilligan\n",
      "Mike Glanton\n",
      "J. Craig Gordon\n",
      "Micah Gravley\n",
      "Gerald E Greene\n",
      "Joseph Gullett\n",
      "Matt Gurtler\n",
      "Brett Harrell\n",
      "Matt Hatchett\n",
      "Lee Hawkins\n",
      "Michele Henson\n",
      "Dewayne Hill\n",
      "Bill Hitchens\n",
      "Don Hogan\n",
      "Scott Holcomb\n",
      "Betsy Holland\n",
      "El-Mahdi Holly\n",
      "Susan Holmes\n",
      "CaMia Hopson\n",
      "Penny Houston\n",
      "Henry \"Wayne\" Howard\n",
      "Carolyn Hugley\n",
      "Shelly Hutchinson\n",
      "Derrick Jackson\n",
      "Mack Jackson\n",
      "Rick Jasperse\n",
      "Jan Jones\n",
      "Jeff Jones\n",
      "Sheila Jones\n",
      "Todd Jones\n",
      "Vernon Jones\n",
      "Angelika Kausche\n",
      "Trey Kelley\n",
      "Dar'shun Kendrick\n",
      "Gregg Kennard\n",
      "Tom Kirby\n",
      "David Knight\n",
      "John LaHood\n",
      "Dominic LaRiccia\n",
      "Brenda Lopez Romero\n",
      "Jodi Lott\n",
      "Eddie Lumsden\n",
      "Pedro \"Pete\" Marin\n",
      "Chuck Martin\n",
      "Karen Mathiak\n",
      "Danny Mathis\n",
      "Tom McCall\n",
      "Dewey McClain\n",
      "Josh McLaurin\n",
      "Donna McLeod\n",
      "Steven Meeks\n",
      "Marie Metze\n",
      "Billy Mitchell\n",
      "Martin Momtahan\n",
      "Beth Moore\n",
      "Colton Moore\n",
      "Greg Morris\n",
      "Marc Morris\n",
      "Sheila Clark Nelson\n",
      "Mark Newton\n",
      "Bee Nguyen\n",
      "Randy Nix\n",
      "Mary Margaret Oliver\n",
      "Miriam Paris\n",
      "Sam Park\n",
      "Butch Parrish\n",
      "Don Parsons\n",
      "Jesse Petrea\n",
      "Clay Pirkle\n",
      "Alan Powell\n",
      "Jay Powell\n",
      "Brian Prince\n",
      "Jimmy Pruett\n",
      "Ken Pullin\n",
      "David Ralston\n",
      "Bert Reeves\n",
      "Trey Rhodes\n",
      "Bonnie Rich\n",
      "Jason Ridley\n",
      "Mary Robichaux\n",
      "Terry Rogers\n",
      "Dale Rutledge\n",
      "Steven Sainz\n",
      "Kim Schofield\n",
      "Mitchell Scoggins\n",
      "Sandra Scott\n",
      "Ed Setzler\n",
      "Renitta Shannon\n",
      "Dexter Sharper\n",
      "Deborah Silcox\n",
      "Philip Singleton\n",
      "Lynn Smith\n",
      "Michael Smith\n",
      "Richard H. Smith\n",
      "Vance Smith\n",
      "Calvin Smyre\n",
      "Mickey Stephens\n",
      "Ron Stephens\n",
      "Pam Stephenson\n",
      "Valencia Stovall\n",
      "Jan Tankersley\n",
      "Kevin Tanner\n",
      "Steve Tarvin\n",
      "Darlene K. Taylor\n",
      "\"Able\" Mable Thomas\n",
      "Erica Thomas\n",
      "Robert Trammell\n",
      "Scot Turner\n",
      "Dale Washburn\n",
      "Sam Watson\n",
      "Andrew J. Welch\n",
      "Bill Werkheiser\n",
      "Marcus A. Wiedower\n",
      "Mike Wilensky\n",
      "David Wilkerson\n",
      "Al Williams\n",
      "Mary Frances Williams\n",
      "Noel Williams, Jr.\n",
      "Rick Williams\n",
      "Bruce Williamson\n",
      "Matthew Wilson\n",
      "{66: ('Kimberly Alexander', 'Alexander', 'kimberly.alexander@house.ga.gov', 'vanessa.compton@house.ga.gov'), 40: ('Erick E. Allen', 'Allen', 'erick.allen@house.ga.gov', 'cheryl.jackson@house.ga.gov'), 42: ('Teri Anulewicz', 'Anulewicz', 'teri.anulewicz@house.ga.gov', 'josephine.lamar@house.ga.gov'), 23: ('Mandi L.  Ballinger', 'Ballinger', 'mandi.ballinger@house.ga.gov', 'ashley.newton@house.ga.gov'), 103: ('Timothy Barr', 'Barr', 'timothy.barr@house.ga.gov', 'jc.bryant@house.ga.gov'), 5: ('Matt Barton', 'Barton', 'matt.barton@house.ga.gov', 'delane.roberts@house.ga.gov'), 63: ('Debra Bazemore', 'Bazemore', 'debra.bazemore@house.ga.gov', 'sarah.galyean@house.ga.gov'), 65: ('Sharon Beasley-Teague', 'Beasley-Teague', 'sharon.beasley-teague@house.ga.gov', 'kimberly.romaine@house.ga.gov'), 112: ('Dave Belton', 'Belton', 'dave.belton@house.ga.gov', 'debra.miller@house.ga.gov'), 94: ('Karen Bennett', 'Bennett', 'karen.bennett@house.ga.gov', 'sarah.galyean@house.ga.gov'), 139: ('Patty Bentley', 'Bentley', 'patty.bentley@house.ga.gov', 'ivey.mccraney@house.ga.gov'), 31: ('Tommy Benton', 'Benton', 'tommy.benton@house.ga.gov', 'kayla.bancroft@house.ga.gov'), 143: ('James Beverly', 'Beverly', 'james.beverly@house.ga.gov', 'kimberly.romaine@house.ga.gov'), 146: ('Shaw Blackmon', 'Blackmon', 'shaw.blackmon@house.ga.gov', 'alicia.bohannon@house.ga.gov'), 62: ('William Boddie', 'Boddie', 'william.boddie@house.ga.gov', 'antarica.fuller@house.ga.gov'), 72: ('Josh Bonner', 'Bonner', 'josh.bonner@house.ga.gov', 'kathy.hutcherson@house.ga.gov'), 61: ('Roger Bruce', 'Bruce', 'roger.bruce@house.ga.gov', 'vanessa.compton@house.ga.gov'), 137: ('Debbie Buckner', 'Buckner', 'debbie.buckner@house.ga.gov', 'josephine.lamar@house.ga.gov'), 176: ('James Burchett', 'Burchett', 'james.burchett@house.ga.gov', 'latricia.howard@house.ga.gov'), 77: ('Rhonda Burnough', 'Burnough', 'rhonda.burnough@house.ga.gov', 'josephine.lamar@house.ga.gov'), 159: ('Jon G. Burns', 'Burns', 'jon.burns@house.ga.gov', 'kailyn.duesler@house.ga.gov', 'caulder.childs@house.ga.gov'), 20: ('Michael Caldwell', 'Caldwell', 'michael.caldwell@house.ga.gov', 'shakirah.nash@house.ga.gov', 'shakirah.nash@house.ga.gov'), 58: ('Park Cannon', 'Cannon', 'park.cannon@house.ga.gov', 'vanessa.compton@house.ga.gov'), 22: ('Wes Cantrell', 'Cantrell', 'wes.cantrell@house.ga.gov', 'shakirah.nash@house.ga.gov', 'shakirah.nash@house.ga.gov'), 4: ('Kasey Carpenter', 'Carpenter', 'kasey.carpenter@house.ga.gov', 'ebony.canty@house.ga.gov'), 46: ('John Carson', 'Carson', 'john.carson@house.ga.gov', 'courtney.strain@house.ga.gov'), 92: ('Doreen Carter', 'Carter', 'doreen.carter@house.ga.gov', 'kimberly.romaine@house.ga.gov'), 138: ('Mike Cheokas', 'Cheokas', 'mike.cheokas@house.ga.gov', 'shakirah.nash@house.ga.gov'), 98: ('David Clark', 'Clark', 'david.clark@house.ga.gov', 'tania.rios@house.ga.gov'), 147: ('Heath Clark', 'Clark', 'heath.clark@house.ga.gov', 'jacquelyn.hicks@house.ga.gov'), 108: ('Jasmine Clark', 'Clark', 'jasmine.clark@house.ga.gov', 'ivey.mccraney@house.ga.gov'), 68: ('J Collins', 'Collins', 'j.collins@house.ga.gov', 'ebony.canty@house.ga.gov'), 18: ('Kevin Cooke', 'Cooke', 'kevin.cooke@house.ga.gov', 'latricia.howard@house.ga.gov'), 43: ('Sharon Cooper', 'Cooper', 'sharon.cooper@house.ga.gov', 'lynn.mckenzie@house.ga.gov'), 174: ('John Corbett', 'Corbett', 'john.corbett@house.ga.gov', 'jacquelyn.rowe@house.ga.gov'), 87: ('Viola Davis', 'Davis', 'viola.davis@house.ga.gov', 'cheryl.jackson@house.ga.gov'), 13: ('Katie M. Dempsey', 'Dempsey', 'katie.dempsey@house.ga.gov', 'laurie.sparks@house.ga.gov'), 113: ('Pam Dickerson', 'Dickerson', 'pam.dickerson@house.ga.gov', 'kim.wideman@house.ga.gov'), 140: ('Robert Dickey', 'Dickey', 'robert.dickey@house.ga.gov', 'sheila.raney@house.ga.gov'), 45: ('Matt Dollar', 'Dollar', 'matt.dollar@house.ga.gov', 'alicia.bohannon@house.ga.gov'), 78: ('Demetrius Douglas', 'Douglas', 'demetrius.douglas@house.ga.gov', 'vanessa.compton@house.ga.gov'), 85: ('Karla Drenner', 'Drenner', 'karla.drenner@house.ga.gov', 'sarah.galyean@house.ga.gov'), 59: ('David Dreyer', 'Dreyer', 'david.dreyer@house.ga.gov', 'olivia.sims@house.ga.gov'), 29: ('Matt Dubnik', 'Dubnik', 'matt.dubnik@house.ga.gov', 'jacquelyn.hicks@house.ga.gov'), 154: ('Winfred J Dukes', 'Dukes', 'winfred.dukes@house.ga.gov', 'audrea.carson@house.ga.gov'), 30: ('Emory Dunahoo', 'Dunahoo', 'emory.dunahoo@house.ga.gov', 'shakirah.nash@house.ga.gov'), 104: ('Chuck Efstration', 'Efstration', 'chuck.efstration@house.ga.gov', 'haneefah.saleem@house.ga.gov'), 36: ('Ginny Ehrhart', 'Ehrhart', 'ginny.ehrhart@house.ga.gov', 'shakirah.nash@house.ga.gov'), 116: ('Terry England', 'England', 'terry.england@house.ga.gov', 'dezzie.riley@house.ga.gov'), 28: ('Chris Erwin', 'Erwin', 'chris.erwin@house.ga.gov', 'latricia.howard@house.ga.gov'), 83: ('Becky Evans', 'Evans', 'becky.evans@house.ga.gov', 'cheryl.jackson@house.ga.gov'), 121: ('Barry Fleming', 'Fleming', 'barry.fleming@house.ga.gov', 'jerrie.baughman@house.ga.gov'), 126: ('Gloria Frazier', 'Frazier', 'gloria.frazier@house.ga.gov', 'olivia.sims@house.ga.gov'), 118: ('Spencer Frye', 'Frye', 'spencer.frye@house.ga.gov', 'olivia.sims@house.ga.gov'), 117: ('Houston Gaines', 'Gaines', 'houston.gaines@house.ga.gov', 'delane.roberts@house.ga.gov'), 15: ('Matthew Gambill', 'Gambill', 'matthew.gambill@house.ga.gov', 'kathy.hutcherson@house.ga.gov'), 57: ('Pat Gardner', 'Gardner', 'pat.gardner@house.ga.gov', 'olivia.sims@house.ga.gov'), 162: ('Carl Wayne Gilliard', 'Gilliard', 'carl.gilliard@house.ga.gov', 'vanessa.compton@house.ga.gov'), 24: ('Sheri Gilligan', 'Gilligan', 'sheri.gilligan@house.ga.gov', 'delane.roberts@house.ga.gov'), 75: ('Mike Glanton', 'Glanton', 'mike.glanton@house.ga.gov', 'ebony.canty@house.ga.gov'), 163: ('J. Craig Gordon', 'Gordon', 'jcraig.gordon@house.ga.gov', 'ivey.mccraney@house.ga.gov'), 67: ('Micah Gravley', 'Gravley', 'micah.gravley@house.ga.gov', 'debra.stokes@house.ga.gov', 'laura.hurd@house.ga.gov'), 151: ('Gerald E Greene', 'Greene', 'gerald.greene@house.ga.gov', 'haneefah.saleem@house.ga.gov'), 19: ('Joseph Gullett', 'Gullett', 'joseph.gullett@house.ga.gov', 'tatiana.padilla@house.ga.gov'), 8: ('Matt Gurtler', 'Gurtler', 'matt.gurtler@house.ga.gov', 'latricia.howard@house.ga.gov'), 106: ('Brett Harrell', 'Harrell', 'brett.harrell@house.ga.gov', 'sara.rios@house.ga.gov'), 150: ('Matt Hatchett', 'Hatchett', 'matt.hatchett@house.ga.gov', 'laura.hurd@house.ga.gov'), 27: ('Lee Hawkins', 'Hawkins', 'lee.hawkins@house.ga.gov', 'courtney.strain@house.ga.gov'), 86: ('Michele Henson', 'Henson', 'michele.henson@house.ga.gov', 'vanessa.compton@house.ga.gov'), 3: ('Dewayne Hill', 'Hill', 'dewayne.hill@house.ga.gov', 'delane.roberts@house.ga.gov'), 161: ('Bill Hitchens', 'Hitchens', 'bill.hitchens@house.ga.gov', 'courtney.strain@house.ga.gov'), 179: ('Don Hogan', 'Hogan', 'don.hogan@house.ga.gov', 'tatiana.padilla@house.ga.gov'), 81: ('Scott Holcomb', 'Holcomb', 'scott.holcomb@house.ga.gov', 'allegra.johnson@house.ga.gov'), 54: ('Betsy Holland', 'Holland', 'betsy.holland@house.ga.gov', 'josephine.lamar@house.ga.gov'), 111: ('El-Mahdi Holly', 'Holly', 'el-mahdi.holly@house.ga.gov', 'ivey.mccraney@house.ga.gov'), 129: ('Susan Holmes', 'Holmes', 'susan.holmes@house.ga.gov', 'vanessa.turner@house.ga.gov'), 153: ('CaMia Hopson', 'Hopson', 'camia.hopson@house.ga.gov', 'ivey.mccraney@house.ga.gov'), 170: ('Penny Houston', 'Houston', 'penny.houston@house.ga.gov', 'laurie.sparks@house.ga.gov'), 124: ('Henry \"Wayne\" Howard', 'Howard', 'wayne.howard@house.ga.gov', 'allegra.johnson@house.ga.gov'), 136: ('Carolyn Hugley', 'Hugley', 'carolyn.hugley@house.ga.gov', 'cheryl.jackson@house.ga.gov'), 107: ('Shelly Hutchinson', 'Hutchinson', 'shelly.hutchinson@house.ga.gov', 'ivey.mccraney@house.ga.gov'), 64: ('Derrick Jackson', 'Jackson', 'derrick.jackson@house.ga.gov', 'kimberly.romaine@house.ga.gov'), 128: ('Mack Jackson', 'Jackson', 'mack.jackson@house.ga.gov', 'kim.wideman@house.ga.gov'), 11: ('Rick Jasperse', 'Jasperse', 'rick.jasperse@house.ga.gov', 'ashley.newton@house.ga.gov'), 47: ('Jan Jones', 'Jones', 'jan.jones@house.ga.gov', 'sheena.wright@house.ga.gov'), 167: ('Jeff Jones', 'Jones', 'jeff.jones@house.ga.gov', 'tatiana.padilla@house.ga.gov'), 53: ('Sheila Jones', 'Jones', 'sheila.jones@house.ga.gov', 'audrea.carson@house.ga.gov'), 25: ('Todd Jones', 'Jones', 'todd.jones@house.ga.gov', 'jacquelyn.rowe@house.ga.gov'), 91: ('Vernon Jones', 'Jones', 'vernon.jones@house.ga.gov', 'ivey.mccraney@house.ga.gov'), 50: ('Angelika Kausche', 'Kausche', 'angelika.kausche@house.ga.gov', 'josephine.lamar@house.ga.gov'), 16: ('Trey Kelley', 'Kelley', 'trey.kelley@house.ga.gov', 'wanda.scull@house.ga.gov'), 93: (\"Dar'shun Kendrick\", 'Kendrick', 'darshun.kendrick@house.ga.gov', 'cheryl.jackson@house.ga.gov'), 102: ('Gregg Kennard', 'Kennard', 'gregg.kennard@house.ga.gov', 'sarah.galyean@house.ga.gov'), 114: ('Tom Kirby', 'Kirby', 'tom.kirby@house.ga.gov', 'tatiana.padilla@house.ga.gov'), 130: ('David Knight', 'Knight', 'david.knight@house.ga.gov', 'laurie.sparks@house.ga.gov'), 175: ('John LaHood', 'LaHood', 'john.lahood@house.ga.gov', 'latricia.howard@house.ga.gov'), 169: ('Dominic LaRiccia', 'LaRiccia', 'dominic.lariccia@house.ga.gov', 'talmadge.james@house.ga.gov'), 99: ('Brenda Lopez Romero', 'Romero', 'brenda.lopezromero@house.ga.gov', 'allegra.johnson@house.ga.gov'), 122: ('Jodi Lott', 'Lott', 'jodi.lott@house.ga.gov', 'talmadge.james@house.ga.gov'), 12: ('Eddie Lumsden', 'Lumsden', 'eddie.lumsden@house.ga.gov', 'shirley.spencer@house.ga.gov'), 96: ('Pedro \"Pete\" Marin', 'Marin', 'pedro.marin@house.ga.gov', 'kim.wideman@house.ga.gov'), 49: ('Chuck Martin', 'Martin', 'chuck.martin@house.ga.gov', 'miriam.goodfriend@house.ga.gov'), 73: ('Karen Mathiak', 'Mathiak', 'karen.mathiak@house.ga.gov', 'tania.rios@house.ga.gov'), 144: ('Danny Mathis', 'Mathis', 'danny.mathis@house.ga.gov', 'shakirah.nash@house.ga.gov'), 33: ('Tom McCall', 'McCall', 'tom.mccall@house.ga.gov', 'leigh.goff@house.ga.gov'), 100: ('Dewey McClain', 'McClain', 'dewey.mcclain@house.ga.gov', 'kimberly.romaine@house.ga.gov'), 51: ('Josh McLaurin', 'McLaurin', 'josh.mclaurin@house.ga.gov', 'sarah.galyean@house.ga.gov'), 105: ('Donna McLeod', 'McLeod', 'donna.mcleod@house.ga.gov', 'kimberly.romaine@house.ga.gov'), 178: ('Steven Meeks', 'Meeks', 'steven.meeks@house.ga.gov', 'tatiana.padilla@house.ga.gov'), 55: ('Marie Metze', 'Metze', 'marie.metze@house.ga.gov', 'allegra.johnson@house.ga.gov'), 88: ('Billy Mitchell', 'Mitchell', 'billy.mitchell@house.ga.gov', 'audrea.carson@house.ga.gov'), 17: ('Martin Momtahan', 'Momtahan', 'martin.momtahan@house.ga.gov', 'tatiana.padilla@house.ga.gov'), 95: ('Beth Moore', 'Moore', 'beth.moore@house.ga.gov'), 1: ('Colton Moore', 'Moore', 'colton.moore@house.ga.gov', 'delane.roberts@house.ga.gov'), 156: ('Greg Morris', 'Morris', 'greg.morris@house.ga.gov', 'gail.morgart@house.ga.gov', 'donna.harley@house.ga.gov'), 26: ('Marc Morris', 'Morris', 'marc.morris@house.ga.gov', 'tania.rios@house.ga.gov'), 125: ('Sheila Clark Nelson', 'Nelson', 'sheila.nelson@house.ga.gov', 'allegra.johnson@house.ga.gov'), 123: ('Mark Newton', 'Newton', 'mark.newton@house.ga.gov', 'kathy.hutcherson@house.ga.gov'), 89: ('Bee Nguyen', 'Nguyen', 'bee.nguyen@house.ga.gov', 'kim.wideman@house.ga.gov'), 69: ('Randy Nix', 'Nix', 'randy.nix@house.ga.gov', 'miriam.goodfriend@house.ga.gov'), 82: ('Mary Margaret Oliver', 'Oliver', 'mary.oliver@house.ga.gov', 'olivia.sims@house.ga.gov'), 142: ('Miriam Paris', 'Paris', 'miriam.paris@house.ga.gov', 'cheryl.jackson@house.ga.gov'), 101: ('Sam Park', 'Park', 'sam.park@house.ga.gov', 'kim.wideman@house.ga.gov'), 158: ('Butch Parrish', 'Parrish', 'butch.parrish@house.ga.gov', 'sheila.raney@house.ga.gov'), 44: ('Don Parsons', 'Parsons', 'don.parson@house.ga.gov', 'alicia.bohannon@house.ga.gov'), 166: ('Jesse Petrea', 'Petrea', 'jesse.petrea@house.ga.gov', 'ebony.canty@house.ga.gov'), 155: ('Clay Pirkle', 'Pirkle', 'clay.pirkle@house.ga.gov', 'latricia.howard@house.ga.gov'), 32: ('Alan Powell', 'Powell', 'alan.powell@house.ga.gov', 'jan.brown@house.ga.gov'), 171: ('Jay Powell', 'Powell', 'jay.powell@house.ga.gov', 'kathy.little@house.ga.gov'), 127: ('Brian Prince', 'Prince', 'brian.prince@house.ga.gov', 'josephine.lamar@house.ga.gov'), 149: ('Jimmy Pruett', 'Pruett', 'jimmy.pruett@house.ga.gov', 'dianna.brooks@house.ga.gov'), 131: ('Ken Pullin', 'Pullin', 'ken.pullin@house.ga.gov', 'latricia.howard@house.ga.gov'), 7: ('David Ralston', 'Ralston', 'david.ralston@house.ga.gov', 'leishea.johnson@house.ga.gov'), 34: ('Bert Reeves', 'Reeves', 'bert.reeves@house.ga.gov', 'talmadge.james@house.ga.gov'), 120: ('Trey Rhodes', 'Rhodes', 'trey.rhodes@house.ga.gov', 'leigh.goff@house.ga.gov'), 97: ('Bonnie Rich', 'Rich', 'bonnie.rich@house.ga.gov', 'kathy.hutcherson@house.ga.gov'), 6: ('Jason Ridley', 'Ridley', 'jason.ridley@house.ga.gov', 'delane.roberts@house.ga.gov'), 48: ('Mary Robichaux', 'Robichaux', 'mary.robichaux@house.ga.gov', 'sarah.galyean@house.ga.gov'), 10: ('Terry Rogers', 'Rogers', 'terry.rogers@house.ga.gov', 'talmadge.james@house.ga.gov'), 109: ('Dale Rutledge', 'Rutledge', 'dale.rutledge@house.ga.gov', 'kathy.hutcherson@house.ga.gov'), 180: ('Steven Sainz', 'Sainz', 'steven.sainz@house.ga.gov', 'tatiana.padilla@house.ga.gov'), 60: ('Kim Schofield', 'Schofield', 'kim.schofield@house.ga.gov', 'kimberly.romaine@house.ga.gov'), 14: ('Mitchell Scoggins', 'Scoggins', 'mitchell.scoggins@house.ga.gov', 'delane.roberts@house.ga.gov'), 76: ('Sandra Scott', 'Scott', 'sandra.scott@house.ga.gov', 'kim.wideman@house.ga.gov'), 35: ('Ed Setzler', 'Setzler', 'ed.setzler@house.ga.gov', 'jc.bryant@house.ga.gov'), 84: ('Renitta Shannon', 'Shannon', 'renitta.shannon@house.ga.gov', 'vanessa.compton@house.ga.gov'), 177: ('Dexter Sharper', 'Sharper', 'dexter.sharper@house.ga.gov', 'audrea.carson@house.ga.gov', 'rahmana.evans@house.ga.gov'), 52: ('Deborah Silcox', 'Silcox', 'deborah.silcox@house.ga.gov', 'debra.miller@house.ga.gov'), 71: ('Philip Singleton', 'Singleton', 'philip.singleton@house.ga.gov'), 70: ('Lynn Smith', 'Smith', 'lynn.smith@house.ga.gov', 'nicole.chappelle@house.ga.gov'), 41: ('Michael Smith', 'Smith', 'michael.smith@house.ga.gov', 'olivia.sims@house.ga.gov'), 134: ('Richard H. Smith', 'Smith', 'richard.smith@house.ga.gov', 'pamela.lewis@house.ga.gov'), 133: ('Vance Smith', 'Smith', 'vance.smith@house.ga.gov', 'kathy.hutcherson@house.ga.gov'), 135: ('Calvin Smyre', 'Smyre', 'calvinsmyre@synovus.com', 'cheryl.jackson@house.ga.gov'), 165: ('Mickey Stephens', 'Stephens', 'mickey.stephens@gmail.com', 'olivia.sims@house.ga.gov'), 164: ('Ron Stephens', 'Stephens', 'ron.stephens@house.ga.gov', 'gail.morgart@house.ga.gov', 'donna.harley@house.ga.gov'), 90: ('Pam Stephenson', 'Stephenson', 'pam.stephenson@house.ga.gov', 'audrea.carson@house.ga.gov'), 74: ('Valencia Stovall', 'Stovall', 'valencia.stovall@house.ga.gov', 'kim.wideman@house.ga.gov'), 160: ('Jan Tankersley', 'Tankersley', 'jan.tankersley@house.ga.gov', 'courtney.strain@house.ga.gov'), 9: ('Kevin Tanner', 'Tanner', 'kevin.tanner@house.ga.gov', 'chelsee.nabritt@house.ga.gov'), 2: ('Steve Tarvin', 'Tarvin', 'steve.tarvin@house.ga.gov', 'jan.brown@house.ga.gov'), 173: ('Darlene K. Taylor', 'Taylor', 'darlene.taylor@house.ga.gov', 'jc.bryant@house.ga.gov'), 56: ('\"Able\" Mable Thomas', 'Thomas', 'mable.thomas@house.ga.gov', 'allegra.johnson@house.ga.gov'), 39: ('Erica Thomas', 'Thomas', 'erica.thomas@house.ga.gov', 'vanessa.compton@house.ga.gov'), 132: ('Robert Trammell', 'Trammell', 'robert.trammell@house.ga.gov', 'stacy.williams@house.ga.gov'), 21: ('Scot Turner', 'Turner', 'scot.turner@house.ga.gov', 'shakirah.nash@house.ga.gov', 'shakirah.nash@house.ga.gov'), 141: ('Dale Washburn', 'Washburn', 'dale.washburn@house.ga.gov', 'shakirah.nash@house.ga.gov'), 172: ('Sam Watson', 'Watson', 'sam.watson@house.ga.gov', 'sheila.raney@house.ga.gov'), 110: ('Andrew J. Welch', 'Welch', 'andrew.welch@house.ga.gov', 'pamela.lewis@house.ga.gov'), 157: ('Bill Werkheiser', 'Werkheiser', 'bill.werkheiser@house.ga.gov', 'vanessa.turner@house.ga.gov'), 119: ('Marcus A. Wiedower', 'Wiedower', 'marcus.wiedower@house.ga.gov', 'delane.roberts@house.ga.gov'), 79: ('Mike Wilensky', 'Wilensky', 'mike.wilensky@house.ga.gov', 'sarah.galyean@house.ga.gov'), 38: ('David Wilkerson', 'Wilkerson', 'david.wilkerson@house.ga.gov', 'josephine.lamar@house.ga.gov'), 168: ('Al Williams', 'Williams', 'al.williams@house.ga.gov', 'allegra.johnson@house.ga.gov'), 37: ('Mary Frances Williams', 'Williams', 'maryfrances.williams@house.ga.gov', 'ivey.mccraney@house.ga.gov'), 148: ('Noel Williams, Jr.', 'Jr.', 'noel.williams@house.ga.gov', 'kathy.hutcherson@house.ga.gov'), 145: ('Rick Williams', 'Williams', 'rick.williams@house.ga.gov', 'kathy.hutcherson@house.ga.gov'), 115: ('Bruce Williamson', 'Williamson', 'bruce.williamson@house.ga.gov', 'wanda.scull@house.ga.gov'), 80: ('Matthew Wilson', 'Wilson', 'matthew.wilson@house.ga.gov', 'allegra.johnson@house.ga.gov')}\n"
     ]
    }
   ],
   "source": [
    "begin = 0;\n",
    "end = 0;\n",
    "marker = 0;\n",
    "#print(\"hi\")\n",
    "dict = {}\n",
    "a = 1\n",
    "while True:\n",
    "    begin = l.find('http://www.house.ga.gov/Representatives/en-US/member.aspx?Member=', marker)\n",
    "    end = l.find('&amp;Session=27', marker)\n",
    "    dist = l.find('</span><span style=\"display:block; color:black; border:1px solid #999999; border-left:0px; border-bottom:0px; padding:3px;\">', marker)\n",
    "    if begin == -1:\n",
    "        break\n",
    "    URL = l[begin:end+15]\n",
    "    distPrint = l[dist-3:dist]\n",
    "    while (distPrint.isnumeric() is False):\n",
    "        distPrint = distPrint[1:len(distPrint)]\n",
    "#     print (distPrint)\n",
    "    r = requests.get(URL)\n",
    "    soup = BeautifulSoup(r.content, 'html5lib')\n",
    "    name = str(soup.find('div', attrs = {'class':'HouseH1'}))[21:-6]\n",
    "#     start = name.find('HouseH1\">')\n",
    "#     end = name.find('</div>')\n",
    "#     name = name[start:end]\n",
    "    lname = name.split(' ')[-1]\n",
    "    print(name)\n",
    "    mailtos = soup.select('a[href^=mailto]')\n",
    "    tup = (name, lname)\n",
    "    for i in mailtos:\n",
    "        href = i['href'][7:]\n",
    "#         print (href)\n",
    "        tup = tup + (href,)\n",
    "        \n",
    "    marker = dist + 40\n",
    "    dict[int(distPrint)] = tup\n",
    "    a=a+1\n",
    "print(dict)"
   ]
  },
  {
   "cell_type": "code",
   "execution_count": 99,
   "metadata": {},
   "outputs": [
    {
     "data": {
      "text/plain": [
       "('Sharon Beasley-Teague',\n",
       " 'Beasley-Teague',\n",
       " 'sharon.beasley-teague@house.ga.gov',\n",
       " 'kimberly.romaine@house.ga.gov')"
      ]
     },
     "execution_count": 99,
     "metadata": {},
     "output_type": "execute_result"
    }
   ],
   "source": [
    "dict[65]"
   ]
  },
  {
   "cell_type": "code",
   "execution_count": 101,
   "metadata": {},
   "outputs": [
    {
     "data": {
      "text/plain": [
       "'Beasley-Teague'"
      ]
     },
     "execution_count": 101,
     "metadata": {},
     "output_type": "execute_result"
    }
   ],
   "source": [
    "dict[65][1]"
   ]
  },
  {
   "cell_type": "code",
   "execution_count": 105,
   "metadata": {},
   "outputs": [
    {
     "data": {
      "text/plain": [
       "['sharon.beasley-teague@house.ga.gov', 'kimberly.romaine@house.ga.gov']"
      ]
     },
     "execution_count": 105,
     "metadata": {},
     "output_type": "execute_result"
    }
   ],
   "source": [
    "t = list(dict[65][2:])\n",
    "t"
   ]
  },
  {
   "cell_type": "code",
   "execution_count": 108,
   "metadata": {},
   "outputs": [
    {
     "ename": "AttributeError",
     "evalue": "'list' object has no attribute '__type__'",
     "output_type": "error",
     "traceback": [
      "\u001b[1;31m---------------------------------------------------------------------------\u001b[0m",
      "\u001b[1;31mAttributeError\u001b[0m                            Traceback (most recent call last)",
      "\u001b[1;32m<ipython-input-108-c970e9c3c690>\u001b[0m in \u001b[0;36m<module>\u001b[1;34m\u001b[0m\n\u001b[1;32m----> 1\u001b[1;33m \u001b[0mt\u001b[0m\u001b[1;33m.\u001b[0m\u001b[0m__type__\u001b[0m\u001b[1;33m\u001b[0m\u001b[1;33m\u001b[0m\u001b[0m\n\u001b[0m",
      "\u001b[1;31mAttributeError\u001b[0m: 'list' object has no attribute '__type__'"
     ]
    }
   ],
   "source": []
  },
  {
   "cell_type": "code",
   "execution_count": null,
   "metadata": {},
   "outputs": [],
   "source": []
  }
 ],
 "metadata": {
  "kernelspec": {
   "display_name": "Python 3",
   "language": "python",
   "name": "python3"
  },
  "language_info": {
   "codemirror_mode": {
    "name": "ipython",
    "version": 3
   },
   "file_extension": ".py",
   "mimetype": "text/x-python",
   "name": "python",
   "nbconvert_exporter": "python",
   "pygments_lexer": "ipython3",
   "version": "3.7.1"
  }
 },
 "nbformat": 4,
 "nbformat_minor": 2
}
